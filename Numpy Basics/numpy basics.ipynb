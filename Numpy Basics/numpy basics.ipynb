{
 "cells": [
  {
   "cell_type": "markdown",
   "id": "368302ec-66d8-4f9e-8950-7dcf5e2f4da6",
   "metadata": {
    "extensions": {
     "jupyter_dashboards": {
      "activeView": "grid_default",
      "views": {
       "grid_default": {
        "col": null,
        "height": 2,
        "hidden": true,
        "locked": true,
        "row": null,
        "width": 2
       }
      }
     }
    }
   },
   "source": [
    "<h2>Numpy</h2>\n"
   ]
  },
  {
   "cell_type": "code",
   "execution_count": 66,
   "id": "d1d14eb1-c860-46ca-bf57-7af54e829d48",
   "metadata": {
    "extensions": {
     "jupyter_dashboards": {
      "activeView": "grid_default",
      "views": {
       "grid_default": {
        "col": null,
        "height": 2,
        "hidden": true,
        "locked": true,
        "row": null,
        "width": 2
       }
      }
     }
    }
   },
   "outputs": [],
   "source": [
    "import numpy as np \n",
    "import time"
   ]
  },
  {
   "cell_type": "markdown",
   "id": "6a00898b-822e-41ab-99bc-7b9ae645e16f",
   "metadata": {
    "extensions": {
     "jupyter_dashboards": {
      "activeView": "grid_default",
      "views": {
       "grid_default": {
        "col": null,
        "height": 2,
        "hidden": true,
        "locked": true,
        "row": null,
        "width": 2
       }
      }
     }
    }
   },
   "source": [
    "<h3>Creating array from list </h3>"
   ]
  },
  {
   "cell_type": "code",
   "execution_count": 67,
   "id": "1af6769b-2f9d-4c32-9c9e-b26a98c2423f",
   "metadata": {
    "extensions": {
     "jupyter_dashboards": {
      "activeView": "grid_default",
      "views": {
       "grid_default": {
        "col": null,
        "height": 2,
        "hidden": true,
        "locked": true,
        "row": null,
        "width": 2
       }
      }
     }
    }
   },
   "outputs": [
    {
     "name": "stdout",
     "output_type": "stream",
     "text": [
      "1D array is: [1 2 3]\n"
     ]
    }
   ],
   "source": [
    "arr_1D = np.array([1, 2, 3])\n",
    "print(\"1D array is:\", arr_1D)"
   ]
  },
  {
   "cell_type": "code",
   "execution_count": 68,
   "id": "1828ebc1-1aae-40cb-a675-72ff370fd4e1",
   "metadata": {
    "extensions": {
     "jupyter_dashboards": {
      "activeView": "grid_default",
      "views": {
       "grid_default": {
        "col": null,
        "height": 2,
        "hidden": true,
        "locked": true,
        "row": null,
        "width": 2
       }
      }
     }
    }
   },
   "outputs": [
    {
     "name": "stdout",
     "output_type": "stream",
     "text": [
      "2d array is :  [[1 2 3]\n",
      " [4 5 6]]\n"
     ]
    }
   ],
   "source": [
    "arr_2D = np.array([[1,2,3],[4,5,6]])\n",
    "print (\"2d array is : \", arr_2D)"
   ]
  },
  {
   "cell_type": "markdown",
   "id": "6bb86564-8349-4cff-9fc0-8513fb8acf7e",
   "metadata": {
    "extensions": {
     "jupyter_dashboards": {
      "activeView": "grid_default",
      "views": {
       "grid_default": {
        "col": null,
        "height": 2,
        "hidden": true,
        "locked": true,
        "row": null,
        "width": 2
       }
      }
     }
    }
   },
   "source": [
    "<h3>List vs Numpy array\n",
    "</h3>"
   ]
  },
  {
   "cell_type": "code",
   "execution_count": 69,
   "id": "ba1718c9-1f59-4d56-b6b3-b792b9160b6a",
   "metadata": {
    "extensions": {
     "jupyter_dashboards": {
      "activeView": "grid_default",
      "views": {
       "grid_default": {
        "col": null,
        "height": 2,
        "hidden": true,
        "locked": true,
        "row": null,
        "width": 2
       }
      }
     }
    }
   },
   "outputs": [
    {
     "name": "stdout",
     "output_type": "stream",
     "text": [
      "Python list Mul: [1, 2, 3, 4, 1, 2, 3, 4]\n"
     ]
    }
   ],
   "source": [
    "python_list = [1,2,3,4]\n",
    "print(\"Python list Mul:\",python_list * 2 )\n",
    "\n"
   ]
  },
  {
   "cell_type": "code",
   "execution_count": 70,
   "id": "34121613-1777-4a63-aa7e-1b78c0720fb6",
   "metadata": {
    "extensions": {
     "jupyter_dashboards": {
      "activeView": "grid_default",
      "views": {
       "grid_default": {
        "col": null,
        "height": 2,
        "hidden": true,
        "locked": true,
        "row": null,
        "width": 2
       }
      }
     }
    }
   },
   "outputs": [
    {
     "name": "stdout",
     "output_type": "stream",
     "text": [
      "Python array Mul:  [2 4 6 8]\n"
     ]
    }
   ],
   "source": [
    "np_array = np.array([1,2,3,4]) # Element wise Multiplecation\n",
    "print(\"Python array Mul: \", np_array * 2)"
   ]
  },
  {
   "cell_type": "code",
   "execution_count": 71,
   "id": "d0e34fd0-b536-455c-a086-4fa3d875bcbf",
   "metadata": {
    "extensions": {
     "jupyter_dashboards": {
      "activeView": "grid_default",
      "views": {
       "grid_default": {
        "col": null,
        "height": 2,
        "hidden": true,
        "locked": true,
        "row": null,
        "width": 2
       }
      }
     }
    }
   },
   "outputs": [
    {
     "name": "stdout",
     "output_type": "stream",
     "text": [
      "\n",
      " list operation time:  0.05151510238647461\n",
      "\n",
      " Numpy operation time:  0.0030002593994140625\n"
     ]
    }
   ],
   "source": [
    "# Record the start time for performance measurement\n",
    "start = time.time()\n",
    "\n",
    "# Create a Python list with 1 million elements, where each element is i*2\n",
    "python_list = [i*2 for i in range(1000000)]\n",
    "# Print the time taken for the list operation\n",
    "print(\"\\n list operation time: \", time.time() - start)\n",
    "\n",
    "# Record a new start time for the next operation\n",
    "start = time.time()\n",
    "\n",
    "# Create a NumPy array with 1 million elements and multiply each by 2\n",
    "# This demonstrates NumPy's vectorized operations\n",
    "np_array = np.arange(1000000)*2\n",
    "# Print the time taken for the NumPy operation\n",
    "print(\"\\n Numpy operation time: \", time.time() - start)"
   ]
  },
  {
   "cell_type": "markdown",
   "id": "2d54022f-4efd-45b8-8ff5-928a0424403e",
   "metadata": {
    "extensions": {
     "jupyter_dashboards": {
      "activeView": "grid_default",
      "views": {
       "grid_default": {
        "col": null,
        "height": 2,
        "hidden": true,
        "locked": true,
        "row": null,
        "width": 2
       }
      }
     }
    }
   },
   "source": [
    "<h3>Creating array from scratch</h3>"
   ]
  },
  {
   "cell_type": "code",
   "execution_count": 72,
   "id": "8e9f7812-2c07-48bb-9e1a-e8a33c23db70",
   "metadata": {
    "extensions": {
     "jupyter_dashboards": {
      "activeView": "grid_default",
      "views": {
       "grid_default": {
        "col": null,
        "height": 2,
        "hidden": true,
        "locked": true,
        "row": null,
        "width": 2
       }
      }
     }
    }
   },
   "outputs": [
    {
     "name": "stdout",
     "output_type": "stream",
     "text": [
      "Zeros array:\n",
      " [[0. 0.]\n",
      " [0. 0.]\n",
      " [0. 0.]]\n",
      "ones array:\n",
      " [[1. 1.]\n",
      " [1. 1.]\n",
      " [1. 1.]]\n",
      "full array:\n",
      " [[7 7]\n",
      " [7 7]\n",
      " [7 7]]\n",
      "random array:\n",
      " [[0.67235822 0.65161895]\n",
      " [0.19168409 0.90105118]\n",
      " [0.56728363 0.85830009]]\n",
      "sequence array:\n",
      " [0 2 4 6 8]\n"
     ]
    }
   ],
   "source": [
    "zeros = np.zeros((3,2))\n",
    "print(\"Zeros array:\\n\", zeros)\n",
    "\n",
    "ones = np.ones((3,2))\n",
    "print(\"ones array:\\n\", ones)   \n",
    "\n",
    "full = np.full((3,2),7)\n",
    "print(\"full array:\\n\", full)\n",
    "\n",
    "random = np.random.random((3,2))\n",
    "print(\"random array:\\n\", random)\n",
    "\n",
    "sequence = np.arange(0,10,2)\n",
    "print(\"sequence array:\\n\", sequence)"
   ]
  },
  {
   "cell_type": "markdown",
   "id": "28d1647e-eae1-4e98-8eb7-43f2758a4be5",
   "metadata": {
    "extensions": {
     "jupyter_dashboards": {
      "activeView": "grid_default",
      "views": {
       "grid_default": {
        "col": null,
        "height": 2,
        "hidden": true,
        "locked": true,
        "row": null,
        "width": 2
       }
      }
     }
    }
   },
   "source": [
    "<h3>Vector, Matrix and Tensor</h3>"
   ]
  },
  {
   "cell_type": "code",
   "execution_count": 73,
   "id": "65591a3f-e0ec-41d0-8352-ef174a043d03",
   "metadata": {
    "extensions": {
     "jupyter_dashboards": {
      "activeView": "grid_default",
      "views": {
       "grid_default": {
        "col": null,
        "height": 2,
        "hidden": true,
        "locked": true,
        "row": null,
        "width": 2
       }
      }
     }
    }
   },
   "outputs": [
    {
     "name": "stdout",
     "output_type": "stream",
     "text": [
      "vector: [1 2 3] <class 'numpy.ndarray'>\n",
      "Matrix: \n",
      " [[1 2 3]\n",
      " [4 5 6]] <class 'numpy.ndarray'>\n",
      "Tensor: \n",
      " [[[1 2]\n",
      "  [3 4]]\n",
      "\n",
      " [[5 6]\n",
      "  [7 8]]] <class 'numpy.ndarray'>\n"
     ]
    }
   ],
   "source": [
    "vector = np.array([1,2,3])\n",
    "print(\"vector:\",vector, type(vector))\n",
    "\n",
    "matrix = np.array([[1,2,3],[4,5,6]])\n",
    "print(\"Matrix: \\n\" , matrix, type(matrix))\n",
    "\n",
    "tensor = np.array ([[[1,2],[3,4]],\n",
    "                    [[5,6],[7,8]]])\n",
    "print(\"Tensor: \\n\" , tensor,type(tensor))\n",
    "\n"
   ]
  },
  {
   "cell_type": "code",
   "execution_count": 73,
   "id": "5a77d0f0-fcfd-410a-a86a-b3b45ff29357",
   "metadata": {
    "extensions": {
     "jupyter_dashboards": {
      "activeView": "grid_default",
      "views": {
       "grid_default": {
        "col": null,
        "height": 2,
        "hidden": true,
        "locked": true,
        "row": null,
        "width": 2
       }
      }
     }
    }
   },
   "outputs": [],
   "source": []
  },
  {
   "cell_type": "code",
   "execution_count": 74,
   "id": "63efbbf2-96a0-46da-a409-1bba0e8fc9e1",
   "metadata": {
    "extensions": {
     "jupyter_dashboards": {
      "activeView": "grid_default",
      "views": {
       "grid_default": {
        "col": null,
        "height": 2,
        "hidden": true,
        "locked": true,
        "row": null,
        "width": 2
       }
      }
     }
    }
   },
   "outputs": [
    {
     "name": "stdout",
     "output_type": "stream",
     "text": [
      "Array 1: Vector (1D array) with shape (4,)\n",
      "Array 2: Matrix (2D array) with shape (2, 3)\n",
      "Array 3: Tensor (3D array) with shape (2, 2, 2)\n",
      "\n",
      "Direct dimension checks:\n",
      "Vector dimensions: 1\n",
      "Matrix dimensions: 2\n",
      "Tensor dimensions: 3\n"
     ]
    }
   ],
   "source": [
    "# Create example arrays\n",
    "vector = np.array([1, 2, 3, 4])                    # 1D array (vector)\n",
    "matrix = np.array([[1, 2, 3], [4, 5, 6]])          # 2D array (matrix)\n",
    "tensor = np.array([[[1, 2], [3, 4]], [[5, 6], [7, 8]]])  # 3D array (tensor)\n",
    "\n",
    "# Function to determine array type\n",
    "def check_array_type(arr):\n",
    "    if not isinstance(arr, np.ndarray):\n",
    "        return \"Not a NumPy array\"\n",
    "    \n",
    "    ndim = arr.ndim  # Get number of dimensions\n",
    "    shape = arr.shape  # Get shape of array\n",
    "    \n",
    "    if ndim == 1:\n",
    "        return f\"Vector (1D array) with shape {shape}\"\n",
    "    elif ndim == 2:\n",
    "        return f\"Matrix (2D array) with shape {shape}\"\n",
    "    elif ndim >= 3:\n",
    "        return f\"Tensor ({ndim}D array) with shape {shape}\"\n",
    "    else:\n",
    "        return \"Scalar (0D array)\"\n",
    "\n",
    "# Check each array type\n",
    "print(\"Array 1:\", check_array_type(vector))\n",
    "print(\"Array 2:\", check_array_type(matrix))\n",
    "print(\"Array 3:\", check_array_type(tensor))\n",
    "\n",
    "# check the number of dimensions directly\n",
    "print(\"\\nDirect dimension checks:\")\n",
    "print(\"Vector dimensions:\", vector.ndim)\n",
    "print(\"Matrix dimensions:\", matrix.ndim)\n",
    "print(\"Tensor dimensions:\", tensor.ndim)"
   ]
  },
  {
   "cell_type": "markdown",
   "id": "446fb2bb-88eb-462a-852f-b936deb8a050",
   "metadata": {
    "extensions": {
     "jupyter_dashboards": {
      "activeView": "grid_default",
      "views": {
       "grid_default": {
        "col": null,
        "height": 2,
        "hidden": true,
        "locked": true,
        "row": null,
        "width": 2
       }
      }
     }
    }
   },
   "source": [
    "<h2>Array Properties</h2>"
   ]
  },
  {
   "cell_type": "code",
   "execution_count": 75,
   "id": "24d3441a-7cb4-4090-abf3-71377373b964",
   "metadata": {
    "extensions": {
     "jupyter_dashboards": {
      "activeView": "grid_default",
      "views": {
       "grid_default": {
        "col": null,
        "height": 2,
        "hidden": true,
        "locked": true,
        "row": null,
        "width": 2
       }
      }
     }
    }
   },
   "outputs": [
    {
     "name": "stdout",
     "output_type": "stream",
     "text": [
      "Shape (2, 3)\n",
      "Dimension 2\n",
      "Size 6\n",
      "DataType int32\n"
     ]
    }
   ],
   "source": [
    "arr= np.array([[1,2,3],[4,5,6]])\n",
    "print(\"Shape\", arr.shape)\n",
    "print(\"Dimension\", arr.ndim)\n",
    "print(\"Size\", arr.size)\n",
    "print(\"DataType\", arr.dtype)\n"
   ]
  },
  {
   "cell_type": "markdown",
   "id": "72825e0b-93b9-4e3d-b30d-e43380530463",
   "metadata": {
    "extensions": {
     "jupyter_dashboards": {
      "activeView": "grid_default",
      "views": {
       "grid_default": {
        "col": null,
        "height": 2,
        "hidden": true,
        "locked": true,
        "row": null,
        "width": 2
       }
      }
     }
    }
   },
   "source": [
    "<h3>Array Reshaping</h3>"
   ]
  },
  {
   "cell_type": "code",
   "execution_count": 76,
   "id": "053ff3ce-1114-4baa-9391-7d3310764fa1",
   "metadata": {
    "extensions": {
     "jupyter_dashboards": {
      "activeView": "grid_default",
      "views": {
       "grid_default": {
        "col": null,
        "height": 2,
        "hidden": true,
        "locked": true,
        "row": null,
        "width": 2
       }
      }
     }
    }
   },
   "outputs": [
    {
     "name": "stdout",
     "output_type": "stream",
     "text": [
      "Original array: [ 0  1  2  3  4  5  6  7  8  9 10 11]\n",
      "\n",
      " Reshaped array: \n",
      " [[ 0  1  2  3]\n",
      " [ 4  5  6  7]\n",
      " [ 8  9 10 11]]\n",
      "\n",
      " flattened array: [ 0  1  2  3  4  5  6  7  8  9 10 11]\n",
      "\n",
      " raveled array: [ 0  1  2  3  4  5  6  7  8  9 10 11]\n"
     ]
    }
   ],
   "source": [
    "# Create a 1D array with values from 0 to 11\n",
    "arr = np.arange(12)\n",
    "print(\"Original array:\", arr)\n",
    "\n",
    "# Reshape the 1D array into a 3x4 2D array\n",
    "reshaped = arr.reshape((3,4));\n",
    "print(\"\\n Reshaped array: \\n\", reshaped);\n",
    "\n",
    "# Convert the 2D array back to 1D using flatten() - creates a copy\n",
    "flattened = reshaped.flatten();\n",
    "print(\"\\n flattened array:\", flattened)\n",
    "\n",
    "# Convert the 2D array back to 1D using ravel() - creates a view when possible\n",
    "raveled = reshaped.ravel();\n",
    "print(\"\\n raveled array:\",raveled)\n",
    "\n"
   ]
  },
  {
   "cell_type": "code",
   "execution_count": 77,
   "id": "0c7a0bbc-0fa2-4c1b-9ff0-be028ba0b297",
   "metadata": {
    "extensions": {
     "jupyter_dashboards": {
      "activeView": "grid_default",
      "views": {
       "grid_default": {
        "col": null,
        "height": 2,
        "hidden": true,
        "locked": true,
        "row": null,
        "width": 2
       }
      }
     }
    }
   },
   "outputs": [
    {
     "name": "stdout",
     "output_type": "stream",
     "text": [
      "Transposed array:\n",
      " [[ 0  4  8]\n",
      " [ 1  5  9]\n",
      " [ 2  6 10]\n",
      " [ 3  7 11]]\n"
     ]
    }
   ],
   "source": [
    "# Create a transposed version of the reshaped array\n",
    "# Transposition switches rows and columns (or axes in general)\n",
    "transposed = reshaped.T\n",
    "print(\"Transposed array:\\n\", transposed)"
   ]
  },
  {
   "cell_type": "markdown",
   "id": "8c750715-c1da-4dd5-a149-846b822d0c79",
   "metadata": {
    "extensions": {
     "jupyter_dashboards": {
      "activeView": "grid_default",
      "views": {
       "grid_default": {
        "col": null,
        "height": 2,
        "hidden": true,
        "locked": true,
        "row": null,
        "width": 2
       }
      }
     }
    }
   },
   "source": [
    "<h2>Numpy Array Operations</h2>"
   ]
  },
  {
   "cell_type": "code",
   "execution_count": 78,
   "id": "92031c3c-d62b-466a-81ad-c61968f8ea6c",
   "metadata": {
    "extensions": {
     "jupyter_dashboards": {
      "activeView": "grid_default",
      "views": {
       "grid_default": {
        "col": null,
        "height": 2,
        "hidden": true,
        "locked": true,
        "row": null,
        "width": 2
       }
      }
     }
    }
   },
   "outputs": [
    {
     "name": "stdout",
     "output_type": "stream",
     "text": [
      "Basic slicing: [3 4 5 6 7]\n",
      "With Step :  [2 4 6 8]\n",
      "Negative indexing: 8\n"
     ]
    }
   ],
   "source": [
    "arr = np.array([1,2,3,4,5,6,7,8,9,10])\n",
    "print(\"Basic slicing:\", arr[2:7])\n",
    "print(\"With Step : \",arr[1:8:2])\n",
    "print(\"Negative indexing:\",arr[-3])"
   ]
  },
  {
   "cell_type": "code",
   "execution_count": 79,
   "id": "21494b2c-8b73-40ef-b8b6-7011ce594650",
   "metadata": {
    "extensions": {
     "jupyter_dashboards": {
      "activeView": "grid_default",
      "views": {
       "grid_default": {
        "col": null,
        "height": 2,
        "hidden": true,
        "locked": true,
        "row": null,
        "width": 2
       }
      }
     }
    }
   },
   "outputs": [
    {
     "name": "stdout",
     "output_type": "stream",
     "text": [
      "Specific Element: 2\n",
      "Entire row: [2 3 4]\n",
      "Entire column: [3 4 5]\n"
     ]
    }
   ],
   "source": [
    "arr_2d = np.array([[1,2,3],\n",
    "                  [2,3,4],\n",
    "                  [3,4,5]])\n",
    "print(\"Specific Element:\",arr_2d[0,1])\n",
    "print(\"Entire row:\", arr_2d[1])\n",
    "print(\"Entire column:\", arr_2d[:,2])\n"
   ]
  },
  {
   "cell_type": "markdown",
   "id": "af1d28a1-56d2-4c7d-a27d-b3d46458f689",
   "metadata": {
    "extensions": {
     "jupyter_dashboards": {
      "activeView": "grid_default",
      "views": {
       "grid_default": {
        "col": null,
        "height": 2,
        "hidden": true,
        "locked": true,
        "row": null,
        "width": 2
       }
      }
     }
    }
   },
   "source": [
    "<h3>Sorting</h3>"
   ]
  },
  {
   "cell_type": "code",
   "execution_count": 80,
   "id": "31d7dde9-af2e-4b58-bbe1-7ba929646a67",
   "metadata": {
    "extensions": {
     "jupyter_dashboards": {
      "activeView": "grid_default",
      "views": {
       "grid_default": {
        "col": null,
        "height": 2,
        "hidden": true,
        "locked": true,
        "row": null,
        "width": 2
       }
      }
     }
    }
   },
   "outputs": [
    {
     "name": "stdout",
     "output_type": "stream",
     "text": [
      "Sorted Array: [1 2 3 3 4 4 5 6 7 8]\n",
      "Sorted 2D array by column: \n",
      " [[1 4]\n",
      " [2 5]\n",
      " [4 6]]\n"
     ]
    }
   ],
   "source": [
    "unsorted = np.array([3,2,4,5,3,6,4,7,8,1])\n",
    "print(\"Sorted Array:\",np.sort(unsorted))\n",
    "\n",
    "arr_2d_unsorted = np.array([[1,4],[4,6],[2,5]]);\n",
    "print(\"Sorted 2D array by column: \\n\", np.sort(arr_2d_unsorted, axis = 0))\n"
   ]
  },
  {
   "cell_type": "markdown",
   "id": "78d807c5-0a38-485b-901b-1bc42872fecd",
   "metadata": {
    "extensions": {
     "jupyter_dashboards": {
      "activeView": "grid_default",
      "views": {
       "grid_default": {
        "col": null,
        "height": 2,
        "hidden": true,
        "locked": true,
        "row": null,
        "width": 2
       }
      }
     }
    }
   },
   "source": [
    "<h3>Filter</h3>"
   ]
  },
  {
   "cell_type": "code",
   "execution_count": 81,
   "id": "b3787c38-5215-47b7-8bbf-13aa721439de",
   "metadata": {
    "extensions": {
     "jupyter_dashboards": {
      "activeView": "grid_default",
      "views": {
       "grid_default": {
        "col": null,
        "height": 2,
        "hidden": true,
        "locked": true,
        "row": null,
        "width": 2
       }
      }
     }
    }
   },
   "outputs": [
    {
     "name": "stdout",
     "output_type": "stream",
     "text": [
      "Even numbers: [2 4 6 8]\n"
     ]
    }
   ],
   "source": [
    "# Create a NumPy array with numbers from 1 to 9\n",
    "numbers = np.array([1,2,3,4,5,6,7,8,9])\n",
    "# Filter the array to get only even numbers using boolean indexing\n",
    "even_num = numbers[numbers % 2 == 0 ]\n",
    "# Print the resulting array of even numbers\n",
    "print(\"Even numbers:\", even_num)"
   ]
  },
  {
   "cell_type": "markdown",
   "id": "129a442a-c843-4196-a6dd-a966fec97dfd",
   "metadata": {
    "extensions": {
     "jupyter_dashboards": {
      "activeView": "grid_default",
      "views": {
       "grid_default": {
        "col": null,
        "height": 2,
        "hidden": true,
        "locked": true,
        "row": null,
        "width": 2
       }
      }
     }
    }
   },
   "source": [
    "<h3>Filter with mask</h3>"
   ]
  },
  {
   "cell_type": "code",
   "execution_count": 82,
   "id": "70d000b4-b332-49db-88b2-3102abd1d637",
   "metadata": {
    "extensions": {
     "jupyter_dashboards": {
      "activeView": "grid_default",
      "views": {
       "grid_default": {
        "col": null,
        "height": 2,
        "hidden": true,
        "locked": true,
        "row": null,
        "width": 2
       }
      }
     }
    }
   },
   "outputs": [
    {
     "name": "stdout",
     "output_type": "stream",
     "text": [
      "Numbers greater than 5 : [6 7 8 9]\n"
     ]
    }
   ],
   "source": [
    "# Create a boolean mask where True indicates values greater than 5\n",
    "mask = numbers > 5 \n",
    "# Use the boolean mask to filter the array and print values greater than 5\n",
    "print(\"Numbers greater than 5 :\", numbers[mask])"
   ]
  },
  {
   "cell_type": "markdown",
   "id": "181865ff-186b-4934-90d6-d716d7bb5137",
   "metadata": {
    "extensions": {
     "jupyter_dashboards": {
      "activeView": "grid_default",
      "views": {
       "grid_default": {
        "col": null,
        "height": 2,
        "hidden": true,
        "locked": true,
        "row": null,
        "width": 2
       }
      }
     }
    }
   },
   "source": [
    "<h3>Fancy indexing vs np.where</h3>"
   ]
  },
  {
   "cell_type": "code",
   "execution_count": 106,
   "id": "a911415d-ce96-4acd-b54f-d4dedc2dbdd9",
   "metadata": {},
   "outputs": [
    {
     "name": "stdout",
     "output_type": "stream",
     "text": [
      "[1 3 5]\n",
      "np Where : [6 7 8 9]\n"
     ]
    }
   ],
   "source": [
    "indices = [0, 2 , 4]\n",
    "print(numbers[indices])\n",
    "\n",
    "where_result = np.where(numbers > 5)\n",
    "print(\"np Where :\",numbers[where_result])"
   ]
  },
  {
   "cell_type": "code",
   "execution_count": 116,
   "id": "908dccbf-a133-45b1-8ab5-07b3e3e8b0b4",
   "metadata": {},
   "outputs": [
    {
     "name": "stdout",
     "output_type": "stream",
     "text": [
      "[ 2  4  6  8 10 60 70 80 90]\n"
     ]
    }
   ],
   "source": [
    "condition_array = np.where(numbers > 5,numbers*10, numbers*2)\n",
    "print(condition_array)"
   ]
  },
  {
   "cell_type": "markdown",
   "id": "08475296-5d8a-4656-98f3-d599ddfffb80",
   "metadata": {},
   "source": [
    "<h3>Addting and Removing Data</h3>"
   ]
  },
  {
   "cell_type": "code",
   "execution_count": 120,
   "id": "c10e7861-97d4-4cdf-aa21-9f121c8c6095",
   "metadata": {},
   "outputs": [
    {
     "name": "stdout",
     "output_type": "stream",
     "text": [
      "[1 2 3 4 5 6]\n"
     ]
    }
   ],
   "source": [
    "arr1 = np.array([1, 2, 3])\n",
    "arr2 = np.array([4, 5, 6])\n",
    "\n",
    "combined = np.concatenate((arr1, arr2))\n",
    "print(combined)"
   ]
  },
  {
   "cell_type": "markdown",
   "id": "fbd359b9-9aa1-4ef8-9eff-0d3be847ff04",
   "metadata": {},
   "source": [
    "<h3>Array compatibility</h3>"
   ]
  },
  {
   "cell_type": "code",
   "execution_count": 123,
   "id": "ed2093ad-e908-4945-b415-10dbb9ad1ab3",
   "metadata": {},
   "outputs": [
    {
     "name": "stdout",
     "output_type": "stream",
     "text": [
      "compatibility shapes True\n"
     ]
    }
   ],
   "source": [
    "a = np.array([1, 2, 3])\n",
    "b = np.array([4, 5, 6])\n",
    "c = np.array([7, 8, 9])\n",
    "\n",
    "print(\"compatibility shapes\", a.shape == b.shape)"
   ]
  },
  {
   "cell_type": "code",
   "execution_count": 125,
   "id": "a92ac271-e7b0-4fa8-a7d2-4e44b8f0f32d",
   "metadata": {},
   "outputs": [
    {
     "name": "stdout",
     "output_type": "stream",
     "text": [
      "[[1 2]\n",
      " [3 4]]\n",
      "[[1 2]\n",
      " [3 4]\n",
      " [5 6]]\n"
     ]
    }
   ],
   "source": [
    "original = np.array([[1,2],[3,4]])\n",
    "new_row = np.array([[5,6]])\n",
    "\n",
    "with_new_row = np.vstack((original, new_row))\n",
    "print(original)\n",
    "print(with_new_row)"
   ]
  },
  {
   "cell_type": "code",
   "execution_count": 127,
   "id": "6f9f12f3-8caa-41d6-b733-e7eb4c4f33b9",
   "metadata": {},
   "outputs": [
    {
     "name": "stdout",
     "output_type": "stream",
     "text": [
      "[[1 2 7]\n",
      " [3 4 8]]\n"
     ]
    }
   ],
   "source": [
    "new_col = np.array([[7],[8]])\n",
    "with_new_col = np.hstack((original, new_col))\n",
    "print(with_new_col)\n"
   ]
  },
  {
   "cell_type": "code",
   "execution_count": 129,
   "id": "77c3152b-b7b0-4779-9340-c00ee05b1d76",
   "metadata": {},
   "outputs": [
    {
     "name": "stdout",
     "output_type": "stream",
     "text": [
      "[1 2 3 5 6 7]\n"
     ]
    }
   ],
   "source": [
    "arr = np.array([1, 2, 3, 4, 5, 6, 7])\n",
    "deleted = np.delete(arr, 3)\n",
    "print(deleted)"
   ]
  },
  {
   "cell_type": "code",
   "execution_count": null,
   "id": "ed1abded-3d9a-4d3a-8590-e9783d73577a",
   "metadata": {},
   "outputs": [],
   "source": []
  }
 ],
 "metadata": {
  "extensions": {
   "jupyter_dashboards": {
    "activeView": "grid_default",
    "version": 1,
    "views": {
     "grid_default": {
      "cellMargin": 2,
      "defaultCellHeight": 40,
      "maxColumns": 12,
      "name": "grid",
      "type": "grid"
     }
    }
   }
  },
  "kernelspec": {
   "display_name": "Python 3 (ipykernel)",
   "language": "python",
   "name": "python3"
  },
  "language_info": {
   "codemirror_mode": {
    "name": "ipython",
    "version": 3
   },
   "file_extension": ".py",
   "mimetype": "text/x-python",
   "name": "python",
   "nbconvert_exporter": "python",
   "pygments_lexer": "ipython3",
   "version": "3.12.7"
  }
 },
 "nbformat": 4,
 "nbformat_minor": 5
}
